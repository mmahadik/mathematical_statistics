{
 "cells": [
  {
   "cell_type": "markdown",
   "metadata": {},
   "source": [
    "# Fundamentals"
   ]
  },
  {
   "cell_type": "code",
   "execution_count": 41,
   "metadata": {},
   "outputs": [],
   "source": [
    "import numpy as np\n",
    "import pandas as pd\n",
    "import itertools as it\n",
    "import functools as ft\n",
    "import operator as op\n",
    "from matplotlib import pyplot as plt"
   ]
  },
  {
   "cell_type": "markdown",
   "metadata": {},
   "source": [
    "## Inclusion Exclusion Formula"
   ]
  },
  {
   "cell_type": "code",
   "execution_count": 121,
   "metadata": {},
   "outputs": [],
   "source": [
    "def prob(event, ss=dice_roll_prob_table):\n",
    "    return np.sum(ss[ss.value.isin(event)].prob)"
   ]
  },
  {
   "cell_type": "code",
   "execution_count": 122,
   "metadata": {},
   "outputs": [],
   "source": [
    "def incl_excl_formula_repr(events):\n",
    "    \"\"\"\n",
    "    Generate the represenation of the formula\n",
    "\n",
    "    The inclusion exclusion formula is use to compute the probablity of union of events:\n",
    "    Let events = [\"E1\", \"E2\", \"E3\", \"E4\"]\n",
    "    Then probability of union of events = incl_excl_formula(events)\n",
    "\n",
    "    E.g.\n",
    "    P(E1 u E2 u E3) = P(E1) + P(E2) + P(E3) - P(E1 n E2) - P(E1 n E3) - P(E2 n E3) + P(E1 n E2 n E3)\n",
    "\n",
    "    = (-1)^(i+1) * sum(prob of all intersecting event combinations taking i at a time)\n",
    "\n",
    "    \"\"\"\n",
    "    n = len(events)\n",
    "    cmbns = [it.combinations(events, i) for i in range(1, n)]\n",
    "    cmbns = ft.reduce(op.iconcat, cmbns, [])\n",
    "    cmbns = pd.Series(cmbns, name=\"event_cmbns\")\n",
    "    multiplier = np.power(-1, 1+cmbns.apply(len))\n",
    "    incl_excl = pd.DataFrame({\"term\": cmbns})\n",
    "    incl_excl[\"multiplier\"] = np.power(-1, 1 + incl_excl.term.apply(len))\n",
    "    intersection_event = incl_excl.term.apply(lambda s: ft.reduce(set.intersection,s))\n",
    "    incl_excl[\"intersection_event\"] = intersection_event\n",
    "    incl_excl[\"intersection_event_prob\"] = incl_excl.intersection_event.apply(prob) * incl_excl.multiplier\n",
    "    return np.sum(incl_excl.intersection_event_prob)"
   ]
  },
  {
   "cell_type": "code",
   "execution_count": 123,
   "metadata": {},
   "outputs": [],
   "source": [
    "# experiment of dice roll\n",
    "dice_roll_prob_table = pd.DataFrame({\"value\": np.arange(1, 7)})\n",
    "dice_roll_prob_table[\"prob\"] = 1/6"
   ]
  },
  {
   "cell_type": "code",
   "execution_count": 117,
   "metadata": {},
   "outputs": [],
   "source": [
    "E1 = {1, 2}\n",
    "E2 = {5, 6}\n",
    "E3 = {3, 6}\n",
    "E4 = {1, 3, 5}"
   ]
  },
  {
   "cell_type": "code",
   "execution_count": 124,
   "metadata": {},
   "outputs": [
    {
     "data": {
      "text/plain": [
       "0.8333333333333334"
      ]
     },
     "execution_count": 124,
     "metadata": {},
     "output_type": "execute_result"
    }
   ],
   "source": [
    "incl_excl_formula_repr([E1, E2, E3, E4])"
   ]
  },
  {
   "cell_type": "code",
   "execution_count": 127,
   "metadata": {},
   "outputs": [
    {
     "data": {
      "text/plain": [
       "[(1, 11, 21),\n",
       " (1, 11, 22),\n",
       " (1, 11, 23),\n",
       " (1, 11, 24),\n",
       " (1, 12, 21),\n",
       " (1, 12, 22),\n",
       " (1, 12, 23),\n",
       " (1, 12, 24),\n",
       " (1, 13, 21),\n",
       " (1, 13, 22),\n",
       " (1, 13, 23),\n",
       " (1, 13, 24),\n",
       " (2, 11, 21),\n",
       " (2, 11, 22),\n",
       " (2, 11, 23),\n",
       " (2, 11, 24),\n",
       " (2, 12, 21),\n",
       " (2, 12, 22),\n",
       " (2, 12, 23),\n",
       " (2, 12, 24),\n",
       " (2, 13, 21),\n",
       " (2, 13, 22),\n",
       " (2, 13, 23),\n",
       " (2, 13, 24),\n",
       " (3, 11, 21),\n",
       " (3, 11, 22),\n",
       " (3, 11, 23),\n",
       " (3, 11, 24),\n",
       " (3, 12, 21),\n",
       " (3, 12, 22),\n",
       " (3, 12, 23),\n",
       " (3, 12, 24),\n",
       " (3, 13, 21),\n",
       " (3, 13, 22),\n",
       " (3, 13, 23),\n",
       " (3, 13, 24),\n",
       " (4, 11, 21),\n",
       " (4, 11, 22),\n",
       " (4, 11, 23),\n",
       " (4, 11, 24),\n",
       " (4, 12, 21),\n",
       " (4, 12, 22),\n",
       " (4, 12, 23),\n",
       " (4, 12, 24),\n",
       " (4, 13, 21),\n",
       " (4, 13, 22),\n",
       " (4, 13, 23),\n",
       " (4, 13, 24),\n",
       " (5, 11, 21),\n",
       " (5, 11, 22),\n",
       " (5, 11, 23),\n",
       " (5, 11, 24),\n",
       " (5, 12, 21),\n",
       " (5, 12, 22),\n",
       " (5, 12, 23),\n",
       " (5, 12, 24),\n",
       " (5, 13, 21),\n",
       " (5, 13, 22),\n",
       " (5, 13, 23),\n",
       " (5, 13, 24)]"
      ]
     },
     "execution_count": 127,
     "metadata": {},
     "output_type": "execute_result"
    }
   ],
   "source": [
    "ex1_outcome = [1, 2, 3, 4, 5]\n",
    "ex2_outcome = [11, 12, 13]\n",
    "ex3_outcome = [21, 22, 23, 24]\n",
    "\n",
    "\n",
    "composite_ex123_outcomes = [(x, y, z) for x in ex1_outcome for y in ex2_outcome for z in ex3_outcome]\n",
    "composite_ex123_outcomes"
   ]
  },
  {
   "cell_type": "code",
   "execution_count": null,
   "metadata": {},
   "outputs": [],
   "source": []
  }
 ],
 "metadata": {
  "kernelspec": {
   "display_name": "Python 3",
   "language": "python",
   "name": "python3"
  },
  "language_info": {
   "codemirror_mode": {
    "name": "ipython",
    "version": 3
   },
   "file_extension": ".py",
   "mimetype": "text/x-python",
   "name": "python",
   "nbconvert_exporter": "python",
   "pygments_lexer": "ipython3",
   "version": "3.6.8"
  }
 },
 "nbformat": 4,
 "nbformat_minor": 2
}
